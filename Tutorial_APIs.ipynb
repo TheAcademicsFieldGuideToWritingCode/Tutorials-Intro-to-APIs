{
 "cells": [
  {
   "attachments": {},
   "cell_type": "markdown",
   "metadata": {},
   "source": [
    "# What is an API?\n",
    "An API (Application Programming Interface) is a set of protocols, routines, and tools for building software applications. It provides a way for different software components to interact with each other by defining a set of rules and standards.\n",
    "\n",
    "APIs can be used for many purposes, including:\n",
    "\n",
    "* Integrating software components within a single application\n",
    "* Integrating different applications or services\n",
    "* Building new applications on top of existing ones\n",
    "* Accessing data or functionality provided by external services"
   ]
  },
  {
   "cell_type": "markdown",
   "metadata": {},
   "source": [
    "\n",
    "APIs can be accessed using a variety of methods, including:\n",
    "\n",
    "* REST (Representational State Transfer) API\n",
    "* SOAP (Simple Object Access Protocol) API\n",
    "* GraphQL API\n",
    "* RPC (Remote Procedure Call) API\n",
    "\n",
    "In general, APIs provide a way for developers to access data or functionality provided by external services without having to build everything from scratch. This can save a significant amount of time and effort and enable developers to build better software applications faster."
   ]
  },
  {
   "attachments": {},
   "cell_type": "markdown",
   "metadata": {},
   "source": [
    "## API Restaurant Metaphor\n",
    "An API can be compared to a restaurant menu. Just as a menu lists the dishes that a restaurant offers, an API lists the functionalities that a software service offers.\n",
    "\n",
    "When you go to a restaurant, you don't need to know how the dishes are prepared or what ingredients are used. You simply order what you want from the menu and the kitchen takes care of the rest. In the same way, when you use an API, you don't need to know how the service is implemented or what code is used. You simply call the API using the appropriate syntax, and the service takes care of the rest.\n",
    "\n",
    "In a restaurant, the kitchen prepares the food, and the waiter delivers it to your table. Similarly, in an API, the service provides the functionality, and the API acts as the waiter, delivering the results to your application.\n",
    "\n",
    "Just as a restaurant may have multiple menus for different occasions (e.g., brunch, lunch, dinner), a software service may have multiple APIs for different purposes (e.g., data retrieval, data processing, authentication)."
   ]
  },
  {
   "attachments": {},
   "cell_type": "markdown",
   "metadata": {},
   "source": [
    "## Weather API Example\n",
    "\n",
    "In this example, we'll make an API call to the OpenWeatherMap API to get the current weather for a given location. We'll use the requests library to make the HTTP request to the API and parse the response using the json module."
   ]
  },
  {
   "cell_type": "code",
   "execution_count": null,
   "metadata": {},
   "outputs": [],
   "source": [
    "# IGNORE THIS SETUP CODE. THIS IS A QUICK API SETUP WE'RE USING FOR THE EXAMPLE\n",
    "from flask import Flask, jsonify, request\n",
    "\n",
    "app = Flask(__name__)\n",
    "\n",
    "# Define a route for the API\n",
    "@app.route('/data/2.5/weather')\n",
    "def get_weather():\n",
    "    location = request.args.get('q')\n",
    "    api_key = request.args.get('appid')\n",
    "\n",
    "    data = {\n",
    "        \"coord\": {\"lon\": -74.01, \"lat\": 40.71},\n",
    "        \"weather\": [{\"id\": 800, \"main\": \"Clear\", \"description\": \"clear sky\", \"icon\": \"01d\"}],\n",
    "        \"base\": \"stations\",\n",
    "        \"main\": {\"temp\": 20, \"feels_like\": 19.02, \"temp_min\": 17.78, \"temp_max\": 22.22, \"pressure\": 1018, \"humidity\": 60},\n",
    "        \"visibility\": 10000,\n",
    "        \"wind\": {\"speed\": 2.24, \"deg\": 180},\n",
    "        \"clouds\": {\"all\": 1},\n",
    "        \"dt\": 1638220082,\n",
    "        \"sys\": {\"type\": 2, \"id\": 2039034, \"country\": \"US\", \"sunrise\": 1638183451, \"sunset\": 1638219356},\n",
    "        \"timezone\": -18000,\n",
    "        \"id\": 5128581,\n",
    "        \"name\": \"New York\",\n",
    "        \"cod\": 200\n",
    "    }\n",
    "    return jsonify(data)\n",
    "\n",
    "if __name__ == '__main__':\n",
    "    app.run(debug=True)"
   ]
  },
  {
   "cell_type": "code",
   "execution_count": null,
   "metadata": {},
   "outputs": [],
   "source": [
    "import requests\n",
    "import json\n",
    "\n",
    "# API endpoint and parameters\n",
    "url = 'http://localhost:5000/data/2.5/weather'\n",
    "params = {'q': 'New York', 'appid': 'your_api_key_here'}\n",
    "\n",
    "# Make the API call\n",
    "response = requests.get(url, params=params)\n",
    "\n",
    "# Parse the response as JSON\n",
    "data = json.loads(response.text)\n"
   ]
  },
  {
   "attachments": {},
   "cell_type": "markdown",
   "metadata": {},
   "source": [
    "### Restaurant Metaphor Continued\n",
    "\n",
    "In the restaurant metaphor, an API is like a menu that lists the dishes the restaurant offers. In this case, the API is the OpenWeatherMap API, which provides weather data for various locations.\n",
    "\n",
    "#### Placing an Order to your API\n",
    "\n",
    "The first two lines of the code block create the API endpoint and parameters. The API endpoint is like the name of the restaurant or the URL of its website. In this case, the API endpoint is 'http://api.openweathermap.org/data/2.5/weather', which is the URL for the OpenWeatherMap API.\n",
    "\n",
    "##### Address\n",
    "We set the address in the url variable:\n",
    "\n",
    "```url = 'http://api.openweathermap.org/data/2.5/weather'```\n",
    "\n",
    "##### Parameters\n",
    "The parameters are like the items on the menu. They specify what data you want to retrieve from the API. In this case, the parameters specify that we want to get the weather data for New York. The q parameter specifies the location, and the appid parameter is like a key that allows us to access the data.\n",
    "\n",
    "```params = {'q': 'New York', 'appid': 'your_api_key_here'}```\n",
    "\n",
    "\n",
    "\n",
    "#### Receiving your Order\n",
    "The requests.get() method is like placing an order at a restaurant. It sends a request to the API to get the data we specified in the parameters.\n",
    "\n",
    "The response variable is like the waiter who brings our order back to us. It contains the response from the API, which is usually in the form of JSON data.\n",
    "\n",
    "```response = requests.get(url, params=params)```\n",
    "\n",
    "##### Preparing your Data\n",
    "The json.loads() method is like the chef who prepares our order. It takes the JSON data from the response and converts it into a Python dictionary that we can work with.\n",
    "\n",
    "```json.loads(response.text)```\n",
    "\n",
    "##### Final Dish\n",
    "Finally, the data variable is like the dish that we ordered. It contains the weather data for New York, which we can extract and use in our Python code.\n",
    "\n",
    "```data = json.loads(response.text)```\n",
    "\n",
    "\n",
    "In summary, the code block is like placing an order at a restaurant and receiving a dish with the weather data for New York. The API endpoint and parameters are like the name of the restaurant and the items on the menu, the requests.get() method is like placing an order, the response variable is like the waiter who brings our order, the json.loads() method is like the chef who prepares our order, and the data variable is like the dish that we ordered."
   ]
  },
  {
   "attachments": {},
   "cell_type": "markdown",
   "metadata": {},
   "source": [
    "### The Data comes back in this format"
   ]
  },
  {
   "cell_type": "code",
   "execution_count": null,
   "metadata": {},
   "outputs": [],
   "source": [
    "\"\"\"\n",
    "{\n",
    "    \"coord\": {\n",
    "        \"lon\": -74.01,\n",
    "        \"lat\": 40.71\n",
    "    },\n",
    "    \"weather\": [\n",
    "        {\n",
    "            \"id\": 800,\n",
    "            \"main\": \"Clear\",\n",
    "            \"description\": \"clear sky\",\n",
    "            \"icon\": \"01d\"\n",
    "        }\n",
    "    ],\n",
    "    \"base\": \"stations\",\n",
    "    \"main\": {\n",
    "        \"temp\": 293.3,\n",
    "        \"feels_like\": 293.29,\n",
    "        \"temp_min\": 290.22,\n",
    "        \"temp_max\": 296.23,\n",
    "        \"pressure\": 1023,\n",
    "        \"humidity\": 43\n",
    "    },\n",
    "    \"visibility\": 10000,\n",
    "    \"wind\": {\n",
    "        \"speed\": 1.54,\n",
    "        \"deg\": 10\n",
    "    },\n",
    "    \"clouds\": {\n",
    "        \"all\": 0\n",
    "    },\n",
    "    \"dt\": 1618355361,\n",
    "    \"sys\": {\n",
    "        \"type\": 1,\n",
    "        \"id\": 5141,\n",
    "        \"country\": \"US\",\n",
    "        \"sunrise\": 1618340303,\n",
    "        \"sunset\": 1618386665\n",
    "    },\n",
    "    \"timezone\": -14400,\n",
    "    \"id\": 5128581,\n",
    "    \"name\": \"New York\",\n",
    "    \"cod\": 200\n",
    "}\n",
    "\"\"\""
   ]
  },
  {
   "attachments": {},
   "cell_type": "markdown",
   "metadata": {},
   "source": [
    "### Accessing the Data we Want from the JSON Response Object\n",
    "\n",
    "In the previous code block, we made an API call to the OpenWeatherMap API to get the current weather for New York. We then parsed the response as JSON and stored the data in the data variable, which is a Python dictionary.\n",
    "\n",
    "In the following code block, we are extracting the relevant weather information from the data dictionary. The weather data is nested within the dictionary, so we need to use multiple keys to access the specific values we want.\n",
    "\n",
    "Here's the code to do that"
   ]
  },
  {
   "cell_type": "code",
   "execution_count": null,
   "metadata": {},
   "outputs": [],
   "source": [
    "\n",
    "# Extract the relevant information\n",
    "temp = data['main']['temp']\n",
    "humidity = data['main']['humidity']\n",
    "description = data['weather'][0]['description']\n",
    "\n",
    "# Print the results\n",
    "print(f\"Current temperature: {temp}K\")\n",
    "print(f\"Humidity: {humidity}%\")\n",
    "print(f\"Description: {description}\")\n"
   ]
  },
  {
   "attachments": {},
   "cell_type": "markdown",
   "metadata": {},
   "source": [
    "#### Data Extraction Code Explanation\n",
    "\n",
    "The first line of code extracts the current temperature from the data dictionary. The 'main' key refers to the main weather data, which includes temperature, humidity, and pressure. The 'temp' key specifies the temperature value within the main weather data. The value of temp is assigned to the temp variable.\n",
    "\n",
    "```temp = data['main']['temp']```\n",
    "\n",
    "The second line of code extracts the current humidity from the data dictionary. The 'main' key refers to the main weather data, and the 'humidity' key specifies the humidity value within the main weather data. The value of humidity is assigned to the humidity variable.\n",
    "\n",
    "```humidity = data['main']['humidity']```\n",
    "\n",
    "The third line of code extracts the weather description from the data dictionary. The 'weather' key refers to an array of weather data, and the [0] index specifies the first (and only) item in the array. The 'description' key specifies the weather description value within the weather data. The value of description is assigned to the description variable.\n",
    "\n",
    "```description = data['weather'][0]['description']```"
   ]
  },
  {
   "attachments": {},
   "cell_type": "markdown",
   "metadata": {},
   "source": [
    "### Summing Up\n",
    "\n",
    "In this example, we use the requests.get() method to make a GET request to the OpenWeatherMap API with the appropriate parameters. The API response is returned as a JSON string, which we parse using the json.loads() method to get a Python dictionary.\n",
    "\n",
    "We then extract the relevant information from the dictionary, such as the current temperature, humidity, and weather description, and print it to the console.\n",
    "\n",
    "Note that in order to run this code, you will need to obtain an API key from OpenWeatherMap and replace 'your_api_key_here' with your actual API key.\n",
    "\n",
    "\n",
    "\n"
   ]
  }
 ],
 "metadata": {
  "kernelspec": {
   "display_name": "Python 3",
   "language": "python",
   "name": "python3"
  },
  "language_info": {
   "name": "python",
   "version": "3.9.1 (default, Mar 28 2023, 13:24:17) \n[Clang 14.0.0 (clang-1400.0.29.202)]"
  },
  "orig_nbformat": 4,
  "vscode": {
   "interpreter": {
    "hash": "a56c9bee4eca7e8bcd3f4cc8082d0801f0a260540eed1d189fdca2a92179f74b"
   }
  }
 },
 "nbformat": 4,
 "nbformat_minor": 2
}
