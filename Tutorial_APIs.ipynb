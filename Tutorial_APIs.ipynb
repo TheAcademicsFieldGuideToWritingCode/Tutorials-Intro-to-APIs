{
 "cells": [
  {
   "attachments": {},
   "cell_type": "markdown",
   "metadata": {},
   "source": [
    "# What is an API?\n",
    "APIs, or Application Programming Interfaces, are useful to anyone who wants to access and use data or services that are provided by other applications or systems. APIs set a standard way for different applications and systems to communicate and share data with each other. This way, we don't have to build every app or dataset from scratch.\n",
    "\n",
    "APIs are the bread and butter of data collection. There's tons of APIs that we, as programmers, can access to gather data to create new datasets for analysis or create apps. Some examples of useful APIs are:\n",
    "\n",
    "1. Twitter API: This API allows you to collect data from Twitter, including tweets, user profiles, and search results. This could be useful for social media analysis, sentiment analysis, and trend analysis.\n",
    "\n",
    "2. OpenAI API: This API allows you to provide text input to the API and receive back a variety of responses, such as generated text, summarized text, or translated text. This allows you to leverage the powerful ChatGPT and other OpenAI models programmatically.\n",
    "\n",
    "3. NASA API: This API allows you to access data from NASA's various missions and programs, including images, videos, and scientific data. This could be useful for space exploration, scientific research, and educational applications."
   ]
  },
  {
   "attachments": {},
   "cell_type": "markdown",
   "metadata": {},
   "source": [
    "## Example of Using the Twitter API for Social Psychology Research\n",
    "\n",
    "Suppose a psychologist wants to study how social outrage affects mental health.\n",
    "To do this, they could use the Twitter API to collect tweets related to a recent social outrage event, such as a controversial political decision or a high-profile court case. They could then analyze the language used in these tweets to determine the level of outrage expressed by the users.\n",
    "\n",
    "Here's how the psychologist could use the Twitter API to collect the tweets:\n",
    "\n",
    "1. First, they would need to apply for a Twitter Developer account and create a new Twitter app.\n",
    "\n",
    "2. They would then need to use the Twitter API to search for tweets containing keywords related to the social outrage event. For example, they could search for tweets containing a specific hashtag or the names of people involved in the controversial decision.\n",
    "\n",
    "3. Once they have collected the tweets, they could use natural language processing (NLP) techniques to analyze the language used in the tweets. For example, they could use sentiment analysis to determine the overall sentiment of the tweets (positive, negative, or neutral), or they could use topic modeling to identify the key themes and topics discussed in the tweets.\n",
    "\n",
    "4. Finally, they could use statistical analysis to explore the relationship between the level of outrage expressed in the tweets and measures of mental health, such as self-reported stress or depression."
   ]
  },
  {
   "attachments": {},
   "cell_type": "markdown",
   "metadata": {},
   "source": [
    "## API Calls are like Phone Calls\n",
    "\n",
    "When we work with another organization's API to get data or use a service they provide, we say we're making an API Call.\n",
    "\n",
    "When we make an API call there's 4 important components to keep in mind: Your program making the call, the request your program makes, the Server that answers the call, and the response object they send back.\n",
    "\n",
    "1. Your program making the call: This is like you picking up the phone and dialing a phone number to call a friend. In the context of an API call, your program is the code that initiates the call and sends the request to the API server.\n",
    "\n",
    "2. The request your program makes: This is like the message that you leave on your friend's voicemail asking for information. In the context of an API call, the request is the message that your program sends to the API server asking for data.\n",
    "\n",
    "3. The Server that answers the call: This is like your friend listening to your voicemail and gathering the information you requested. In the context of an API call, the server is the computer that receives your request, processes it, and sends back a response with the data you requested.\n",
    "\n",
    "4. The response object they send back: This is like your friend calling you back and telling you the information that you asked for. In the context of an API call, the response is the message that the server sends back to your program with the data you requested."
   ]
  },
  {
   "attachments": {},
   "cell_type": "markdown",
   "metadata": {},
   "source": [
    "## Code Example: Random User API \n",
    "\n",
    "In this section we're going to do a detailed walkthrough of some python code that makes an API call to the random-user api. This is a free API for teaching purposes, but the process for calling it is very similar to the process you might use to make calls to Reddit, Twitter, Scopus (for scholarly articles), OpenAI's API, and more."
   ]
  },
  {
   "cell_type": "code",
   "execution_count": null,
   "metadata": {},
   "outputs": [],
   "source": [
    "\n",
    "import requests\n",
    "import json\n",
    "\n",
    "# API endpoint and parameters\n",
    "url = 'https://randomuser.me/api/'\n",
    "params = {'nat': 'us'}\n",
    "\n",
    "# Make the API call\n",
    "response = requests.get(url, params=params)\n",
    "\n",
    "# Parse the response as JSON\n",
    "data = json.loads(response.text)\n",
    "\n",
    "# Print the dictionary in a pretty format\n",
    "print(json.dumps(data, indent=4))\n"
   ]
  },
  {
   "attachments": {},
   "cell_type": "markdown",
   "metadata": {},
   "source": [
    "## Explaining the Call\n",
    "The first line of code sets the address we're making the call to. Instead of a phone number, we use a URL. \n",
    "We set the address in the url variable:\n",
    "\n",
    "```url = 'https://randomuser.me/api/'```\n",
    "\n",
    "### Parameters\n",
    "In the next line we set the paramaters. In this case, we're asking the randomuser API to provide us a random user whose nationality is the US.\n",
    "\n",
    "```params = {'nat': 'us'}```\n",
    "\n",
    "### Sending the Call\n",
    "The requests.get() method is when we make the call. Note that we pass the requests.get method both the address (url in this case), and the params. This way the requests.get() method knows where to make the call and what for. \n",
    "\n",
    "```requests.get(url, params=params)```\n",
    "\n",
    "### Receiving the Answer\n",
    "The response variable is where we hold the data that was sent back to us by the request. Think of it like your friend calling you back and giving you the information you asked for.\n",
    "\n",
    "```response = requests.get(url, params=params)```"
   ]
  },
  {
   "attachments": {},
   "cell_type": "markdown",
   "metadata": {},
   "source": [
    "### Translating the Data\n",
    "\n",
    "We get the data back in the form of a json object that looks this:\n",
    "```\n",
    "{\n",
    "    \"results\": [\n",
    "        {\n",
    "            \"gender\": \"female\",\n",
    "            \"name\": {\n",
    "                \"title\": \"Mrs\",\n",
    "                \"first\": \"Gina\",\n",
    "                \"last\": \"Johnson\"\n",
    "            },\n",
    "            \"email\": \"gina.johnson@example.com\",\n",
    "            \"picture\": {\n",
    "                \"large\": \"https://randomuser.me/api/portraits/women/0.jpg\",\n",
    "                \"medium\": \"https://randomuser.me/api/portraits/med/women/0.jpg\",\n",
    "                \"thumbnail\": \"https://randomuser.me/api/portraits/thumb/women/0.jpg\"\n",
    "            },\n",
    "            \"nat\": \"US\"\n",
    "        }\n",
    "    ]\n",
    "}\n",
    "```\n",
    "\n",
    "Then it's best to translate it into something your python program can more easily use. When coding in python you'll most likely use a data structure called a dictionary. To translate it we do the following:\n",
    "\n",
    "```\n",
    "# Parse the response as JSON\n",
    "data = json.loads(response.text)\n",
    "```\n",
    "\n",
    "The json.loads method takes the response text, assumes it's in json format, and translates it into a python dictionary.\n",
    "\n",
    "Finally, you have the data you asked for from your API call ready to use in the rest of your program."
   ]
  },
  {
   "attachments": {},
   "cell_type": "markdown",
   "metadata": {},
   "source": [
    "### Accessing the Data we Want from the JSON Response Object\n",
    "\n",
    "In the previous code block, we made an API call to the Random User API to get a user's information. We then parsed the response as JSON and stored the data in the data variable, which is a Python dictionary.\n",
    "\n",
    "In the following code block, we are extracting the user's first and last name, as well as email from the data dictionary. The user data is nested within the dictionary, so we need to use multiple keys to access the specific values we want.\n",
    "\n",
    "Here's the code to do that:"
   ]
  },
  {
   "cell_type": "code",
   "execution_count": null,
   "metadata": {},
   "outputs": [],
   "source": [
    "# Extract the relevant information\n",
    "first_name = data['results'][0]['name']['first']\n",
    "last_name = data['results'][0]['name']['last']\n",
    "email = data['results'][0]['email']\n",
    "profile_picture = data['results'][0]['picture']['large']\n",
    "\n",
    "# Print the results\n",
    "print(f\"Name: {first_name} {last_name}\")\n",
    "print(f\"Email: {email}\")\n",
    "print(f\"Profile picture: {profile_picture}\")\n"
   ]
  },
  {
   "attachments": {},
   "cell_type": "markdown",
   "metadata": {},
   "source": [
    "#### Extracting Data Explanation\n",
    "\n",
    "The data variable in the code is a dictionary that contains the user's information. The code extracts the relevant information by using dictionary keys to navigate through the dictionary object and access the specific pieces of information that are needed.\n",
    "\n",
    "For example, the line first_name = data['results'][0]['name']['first'] accesses the person's first name by navigating through the dictionary keys in the dictionary object. The data['results'][0] part of the code accesses the first result in the results list, which contains the person's information. The ['name']['first'] part of the code accesses the first key in the name dictionary, which contains the person's first name.\n",
    "\n",
    "Similarly, the lines last_name = data['results'][0]['name']['last'] and email = data['results'][0]['email'] extract the person's last name and email address, respectively.\n",
    "\n",
    "Once the relevant information has been extracted, it is printed to the console using the print() function."
   ]
  },
  {
   "attachments": {},
   "cell_type": "markdown",
   "metadata": {},
   "source": [
    "### Summing Up\n",
    "\n",
    "In this example, we use the requests.get() method to make a GET request to the OpenWeatherMap API with the appropriate parameters. The API response is returned as a JSON string, which we parse using the json.loads() method to get a Python dictionary.\n",
    "\n",
    "We then extract the relevant information from the dictionary, such as the current temperature, humidity, and weather description, and print it to the console.\n",
    "\n",
    "Note that in order to run this code, you will need to obtain an API key from OpenWeatherMap and replace 'your_api_key_here' with your actual API key.\n",
    "\n",
    "\n",
    "\n"
   ]
  }
 ],
 "metadata": {
  "kernelspec": {
   "display_name": "Python 3",
   "language": "python",
   "name": "python3"
  },
  "language_info": {
   "codemirror_mode": {
    "name": "ipython",
    "version": 3
   },
   "file_extension": ".py",
   "mimetype": "text/x-python",
   "name": "python",
   "nbconvert_exporter": "python",
   "pygments_lexer": "ipython3",
   "version": "3.10.4"
  },
  "orig_nbformat": 4,
  "vscode": {
   "interpreter": {
    "hash": "a56c9bee4eca7e8bcd3f4cc8082d0801f0a260540eed1d189fdca2a92179f74b"
   }
  }
 },
 "nbformat": 4,
 "nbformat_minor": 2
}
