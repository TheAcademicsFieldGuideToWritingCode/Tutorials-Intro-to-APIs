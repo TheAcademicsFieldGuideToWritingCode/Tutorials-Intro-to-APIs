{
 "cells": [
  {
   "attachments": {},
   "cell_type": "markdown",
   "metadata": {},
   "source": [
    "# What is an API?\n",
    "An API (Application Programming Interface) is a set of protocols, routines, and tools for building software applications. It provides a way for different software components to interact with each other by defining a set of rules and standards.\n",
    "\n",
    "APIs can be used for many purposes, including:\n",
    "\n",
    "* Integrating software components within a single application\n",
    "* Integrating different applications or services\n",
    "* Building new applications on top of existing ones\n",
    "* Accessing data or functionality provided by external services"
   ]
  },
  {
   "cell_type": "markdown",
   "metadata": {},
   "source": [
    "\n",
    "APIs can be accessed using a variety of methods, including:\n",
    "\n",
    "* REST (Representational State Transfer) API\n",
    "* SOAP (Simple Object Access Protocol) API\n",
    "* GraphQL API\n",
    "* RPC (Remote Procedure Call) API\n",
    "\n",
    "In general, APIs provide a way for developers to access data or functionality provided by external services without having to build everything from scratch. This can save a significant amount of time and effort and enable developers to build better software applications faster."
   ]
  },
  {
   "attachments": {},
   "cell_type": "markdown",
   "metadata": {},
   "source": [
    "## API Restaurant Metaphor\n",
    "An API can be compared to a restaurant menu. Just as a menu lists the dishes that a restaurant offers, an API lists the functionalities that a software service offers.\n",
    "\n",
    "When you go to a restaurant, you don't need to know how the dishes are prepared or what ingredients are used. You simply order what you want from the menu and the kitchen takes care of the rest. In the same way, when you use an API, you don't need to know how the service is implemented or what code is used. You simply call the API using the appropriate syntax, and the service takes care of the rest.\n",
    "\n",
    "In a restaurant, the kitchen prepares the food, and the waiter delivers it to your table. Similarly, in an API, the service provides the functionality, and the API acts as the waiter, delivering the results to your application.\n",
    "\n",
    "Just as a restaurant may have multiple menus for different occasions (e.g., brunch, lunch, dinner), a software service may have multiple APIs for different purposes (e.g., data retrieval, data processing, authentication)."
   ]
  },
  {
   "attachments": {},
   "cell_type": "markdown",
   "metadata": {},
   "source": [
    "## Weather API Example\n",
    "\n",
    "In this example, we'll make an API call to the OpenWeatherMap API to get the current weather for a given location. We'll use the requests library to make the HTTP request to the API and parse the response using the json module."
   ]
  },
  {
   "cell_type": "code",
   "execution_count": 4,
   "metadata": {},
   "outputs": [
    {
     "name": "stdout",
     "output_type": "stream",
     "text": [
      "{\n",
      "    \"results\": [\n",
      "        {\n",
      "            \"gender\": \"male\",\n",
      "            \"name\": {\n",
      "                \"title\": \"Mr\",\n",
      "                \"first\": \"Marion\",\n",
      "                \"last\": \"White\"\n",
      "            },\n",
      "            \"location\": {\n",
      "                \"street\": {\n",
      "                    \"number\": 9600,\n",
      "                    \"name\": \"Dogwood Ave\"\n",
      "                },\n",
      "                \"city\": \"Wichita Falls\",\n",
      "                \"state\": \"Alabama\",\n",
      "                \"country\": \"United States\",\n",
      "                \"postcode\": 94595,\n",
      "                \"coordinates\": {\n",
      "                    \"latitude\": \"49.0797\",\n",
      "                    \"longitude\": \"-95.8012\"\n",
      "                },\n",
      "                \"timezone\": {\n",
      "                    \"offset\": \"-3:00\",\n",
      "                    \"description\": \"Brazil, Buenos Aires, Georgetown\"\n",
      "                }\n",
      "            },\n",
      "            \"email\": \"marion.white@example.com\",\n",
      "            \"login\": {\n",
      "                \"uuid\": \"af5f2f0f-44c2-4b19-a75e-0625ae1282c4\",\n",
      "                \"username\": \"goldenwolf104\",\n",
      "                \"password\": \"hotmail\",\n",
      "                \"salt\": \"qrVjThKM\",\n",
      "                \"md5\": \"88023daec3761e371a4ca70f7218f9ff\",\n",
      "                \"sha1\": \"e800b544bba4e4ba120f6890e8bfdac9869cd5a3\",\n",
      "                \"sha256\": \"1f1c5f75c42c455d56ec2fab90e3004291056858828c2787ee93515a79e1f0f0\"\n",
      "            },\n",
      "            \"dob\": {\n",
      "                \"date\": \"1967-06-15T12:26:20.976Z\",\n",
      "                \"age\": 55\n",
      "            },\n",
      "            \"registered\": {\n",
      "                \"date\": \"2005-12-28T19:29:33.605Z\",\n",
      "                \"age\": 17\n",
      "            },\n",
      "            \"phone\": \"(781) 351-8259\",\n",
      "            \"cell\": \"(677) 306-5092\",\n",
      "            \"id\": {\n",
      "                \"name\": \"SSN\",\n",
      "                \"value\": \"763-38-7695\"\n",
      "            },\n",
      "            \"picture\": {\n",
      "                \"large\": \"https://randomuser.me/api/portraits/men/36.jpg\",\n",
      "                \"medium\": \"https://randomuser.me/api/portraits/med/men/36.jpg\",\n",
      "                \"thumbnail\": \"https://randomuser.me/api/portraits/thumb/men/36.jpg\"\n",
      "            },\n",
      "            \"nat\": \"US\"\n",
      "        }\n",
      "    ],\n",
      "    \"info\": {\n",
      "        \"seed\": \"3045761cd72f2fe8\",\n",
      "        \"results\": 1,\n",
      "        \"page\": 1,\n",
      "        \"version\": \"1.4\"\n",
      "    }\n",
      "}\n"
     ]
    }
   ],
   "source": [
    "\n",
    "import requests\n",
    "import json\n",
    "\n",
    "# API endpoint and parameters\n",
    "url = 'https://randomuser.me/api/'\n",
    "params = {'nat': 'us'}\n",
    "\n",
    "# Make the API call\n",
    "response = requests.get(url, params=params)\n",
    "\n",
    "# Parse the response as JSON\n",
    "data = json.loads(response.text)\n",
    "\n",
    "# Print the dictionary in a pretty format\n",
    "print(json.dumps(data, indent=4))\n"
   ]
  },
  {
   "attachments": {},
   "cell_type": "markdown",
   "metadata": {},
   "source": [
    "### Restaurant Metaphor Continued\n",
    "\n",
    "In the restaurant metaphor, an API is like a menu that lists the dishes the restaurant offers. In this case, the API is the OpenWeatherMap API, which provides weather data for various locations.\n",
    "\n",
    "#### Placing an Order to your API\n",
    "\n",
    "The first two lines of the code block create the API endpoint and parameters. The API endpoint is like the name of the restaurant or the URL of its website. In this case, the API endpoint is 'http://api.openweathermap.org/data/2.5/weather', which is the URL for the OpenWeatherMap API.\n",
    "\n",
    "##### Address\n",
    "We set the address in the url variable:\n",
    "\n",
    "```url = 'https://randomuser.me/api/'```\n",
    "\n",
    "##### Parameters\n",
    "The parameters are like the items on the menu. They specify what data you want to retrieve from the API. In this case, the parameters specify that we to get a user whose nationality is US.\n",
    "\n",
    "```params = {'nat': 'us'}```\n",
    "\n",
    "\n",
    "\n",
    "#### Receiving your Order\n",
    "The requests.get() method is like placing an order at a restaurant. It sends a request to the API to get the data we specified in the parameters.\n",
    "\n",
    "The response variable is like the waiter who brings our order back to us. It contains the response from the API, which is usually in the form of JSON data.\n",
    "\n",
    "```response = requests.get(url, params=params)```\n",
    "\n",
    "##### Preparing your Data\n",
    "The json.loads() method is like the chef who prepares our order. It takes the JSON data from the response and converts it into a Python dictionary that we can work with.\n",
    "\n",
    "```json.loads(response.text)```\n",
    "\n",
    "##### Final Dish\n",
    "Finally, the data variable is like the dish that we ordered. It contains the weather data for New York, which we can extract and use in our Python code.\n",
    "\n",
    "```data = json.loads(response.text)```\n",
    "\n",
    "\n",
    "In summary, the code block is like placing an order at a restaurant and receiving a dish with the weather data for New York. The API endpoint and parameters are like the name of the restaurant and the items on the menu, the requests.get() method is like placing an order, the response variable is like the waiter who brings our order, the json.loads() method is like the chef who prepares our order, and the data variable is like the dish that we ordered."
   ]
  },
  {
   "attachments": {},
   "cell_type": "markdown",
   "metadata": {},
   "source": [
    "### Accessing the Data we Want from the JSON Response Object\n",
    "\n",
    "In the previous code block, we made an API call to the OpenWeatherMap API to get the current weather for New York. We then parsed the response as JSON and stored the data in the data variable, which is a Python dictionary.\n",
    "\n",
    "In the following code block, we are extracting the relevant weather information from the data dictionary. The weather data is nested within the dictionary, so we need to use multiple keys to access the specific values we want.\n",
    "\n",
    "Here's the code to do that"
   ]
  },
  {
   "cell_type": "code",
   "execution_count": 5,
   "metadata": {},
   "outputs": [
    {
     "name": "stdout",
     "output_type": "stream",
     "text": [
      "Name: Marion White\n",
      "Email: marion.white@example.com\n",
      "Profile picture: https://randomuser.me/api/portraits/men/36.jpg\n"
     ]
    }
   ],
   "source": [
    "# Extract the relevant information\n",
    "first_name = data['results'][0]['name']['first']\n",
    "last_name = data['results'][0]['name']['last']\n",
    "email = data['results'][0]['email']\n",
    "profile_picture = data['results'][0]['picture']['large']\n",
    "\n",
    "# Print the results\n",
    "print(f\"Name: {first_name} {last_name}\")\n",
    "print(f\"Email: {email}\")\n",
    "print(f\"Profile picture: {profile_picture}\")\n"
   ]
  },
  {
   "attachments": {},
   "cell_type": "markdown",
   "metadata": {},
   "source": [
    "#### Data Extraction Code Explanation\n",
    "\n",
    "The first line of code extracts the current temperature from the data dictionary. The 'main' key refers to the main weather data, which includes temperature, humidity, and pressure. The 'temp' key specifies the temperature value within the main weather data. The value of temp is assigned to the temp variable.\n",
    "\n",
    "```temp = data['main']['temp']```\n",
    "\n",
    "The second line of code extracts the current humidity from the data dictionary. The 'main' key refers to the main weather data, and the 'humidity' key specifies the humidity value within the main weather data. The value of humidity is assigned to the humidity variable.\n",
    "\n",
    "```humidity = data['main']['humidity']```\n",
    "\n",
    "The third line of code extracts the weather description from the data dictionary. The 'weather' key refers to an array of weather data, and the [0] index specifies the first (and only) item in the array. The 'description' key specifies the weather description value within the weather data. The value of description is assigned to the description variable.\n",
    "\n",
    "```description = data['weather'][0]['description']```"
   ]
  },
  {
   "attachments": {},
   "cell_type": "markdown",
   "metadata": {},
   "source": [
    "### Summing Up\n",
    "\n",
    "In this example, we use the requests.get() method to make a GET request to the OpenWeatherMap API with the appropriate parameters. The API response is returned as a JSON string, which we parse using the json.loads() method to get a Python dictionary.\n",
    "\n",
    "We then extract the relevant information from the dictionary, such as the current temperature, humidity, and weather description, and print it to the console.\n",
    "\n",
    "Note that in order to run this code, you will need to obtain an API key from OpenWeatherMap and replace 'your_api_key_here' with your actual API key.\n",
    "\n",
    "\n",
    "\n"
   ]
  }
 ],
 "metadata": {
  "kernelspec": {
   "display_name": "Python 3",
   "language": "python",
   "name": "python3"
  },
  "language_info": {
   "codemirror_mode": {
    "name": "ipython",
    "version": 3
   },
   "file_extension": ".py",
   "mimetype": "text/x-python",
   "name": "python",
   "nbconvert_exporter": "python",
   "pygments_lexer": "ipython3",
   "version": "3.10.4"
  },
  "orig_nbformat": 4,
  "vscode": {
   "interpreter": {
    "hash": "a56c9bee4eca7e8bcd3f4cc8082d0801f0a260540eed1d189fdca2a92179f74b"
   }
  }
 },
 "nbformat": 4,
 "nbformat_minor": 2
}
